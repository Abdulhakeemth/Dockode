{
 "cells": [
  {
   "cell_type": "code",
   "execution_count": 6,
   "id": "97385e53",
   "metadata": {},
   "outputs": [
    {
     "name": "stdout",
     "output_type": "stream",
     "text": [
      "Enter Number of coloum:3\n",
      "Enter Number of row:3\n",
      "Enter Number in pocket[\"+str(i)+\"]*[\"+str[j]+\"]1\n",
      "Enter Number in pocket[\"+str(i)+\"]*[\"+str[j]+\"]3\n",
      "Enter Number in pocket[\"+str(i)+\"]*[\"+str[j]+\"]6\n",
      "Enter Number in pocket[\"+str(i)+\"]*[\"+str[j]+\"]2\n",
      "Enter Number in pocket[\"+str(i)+\"]*[\"+str[j]+\"]5\n",
      "Enter Number in pocket[\"+str(i)+\"]*[\"+str[j]+\"]8\n",
      "Enter Number in pocket[\"+str(i)+\"]*[\"+str[j]+\"]4\n",
      "Enter Number in pocket[\"+str(i)+\"]*[\"+str[j]+\"]7\n",
      "Enter Number in pocket[\"+str(i)+\"]*[\"+str[j]+\"]9\n",
      "Matrix is ...\n",
      "1 3 6 \n",
      "2 5 8 \n",
      "4 7 9 \n"
     ]
    }
   ],
   "source": [
    "m=int(input('Enter Number of coloum:'))\n",
    "n=int(input('Enter Number of row:'))\n",
    "a=[]\n",
    "for i in range(m):\n",
    "    b=[]\n",
    "    for j in range(n):\n",
    "        j=int(input('Enter Number in pocket[\"+str(i)+\"]*[\"+str[j]+\"]'))\n",
    "        b.append(j)\n",
    "    a.append(b)\n",
    "print(\"Matrix is ...\")\n",
    "for i in range(m):\n",
    "    for j in range(n):\n",
    "        print(a[i][j],end=\" \")\n",
    "    print() "
   ]
  },
  {
   "cell_type": "markdown",
   "id": "03213d54",
   "metadata": {},
   "source": []
  }
 ],
 "metadata": {
  "kernelspec": {
   "display_name": "Python 3 (ipykernel)",
   "language": "python",
   "name": "python3"
  },
  "language_info": {
   "codemirror_mode": {
    "name": "ipython",
    "version": 3
   },
   "file_extension": ".py",
   "mimetype": "text/x-python",
   "name": "python",
   "nbconvert_exporter": "python",
   "pygments_lexer": "ipython3",
   "version": "3.8.11"
  }
 },
 "nbformat": 4,
 "nbformat_minor": 5
}
